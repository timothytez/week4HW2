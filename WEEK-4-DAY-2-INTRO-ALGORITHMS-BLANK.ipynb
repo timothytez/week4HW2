{
 "cells": [
  {
   "cell_type": "markdown",
   "metadata": {},
   "source": [
    "# Algorithms, Binary Search & Linked Lists"
   ]
  },
  {
   "cell_type": "markdown",
   "metadata": {},
   "source": [
    "## Tasks Today:\n",
    " \n",
    "1) <b>In-Place Algorithms</b> <br>\n",
    " &nbsp;&nbsp;&nbsp;&nbsp; a) Syntax <br>\n",
    " &nbsp;&nbsp;&nbsp;&nbsp; a) Out of Place Algorithm <br>\n",
    " &nbsp;&nbsp;&nbsp;&nbsp; b) In-Class Exercise #1 <br>\n",
    "2) <b>Two Pointers</b> <br>\n",
    "3) <b>Linked Lists</b> <br>\n",
    "4) <b>Merge Sort</b> <br>\n",
    " &nbsp;&nbsp;&nbsp;&nbsp; a) Video on Algorithms <br>\n",
    " &nbsp;&nbsp;&nbsp;&nbsp; b) How it Works <br>\n",
    "5) <b>Exercises</b> <br>\n",
    " &nbsp;&nbsp;&nbsp;&nbsp; a) Exercise #1 - Reverse a List in Place Using an In-Place Algorithm <br>\n",
    " &nbsp;&nbsp;&nbsp;&nbsp; b) Exercise #2 - Find Distinct Words <br>\n",
    " &nbsp;&nbsp;&nbsp;&nbsp; c) Exercise #3 - Write a program to implement a Linear Search Algorithm. <br>"
   ]
  },
  {
   "cell_type": "markdown",
   "metadata": {},
   "source": [
    "## In-Place Algorithms"
   ]
  },
  {
   "cell_type": "markdown",
   "metadata": {},
   "source": [
    "#### Syntax"
   ]
  },
  {
   "cell_type": "code",
   "execution_count": 11,
   "metadata": {},
   "outputs": [
    {
     "name": "stdout",
     "output_type": "stream",
     "text": [
      "og_list =[5, 3, 1, 8] before\n",
      "og_list = [1, 3, 5, 8] after\n",
      "sorted_list = None\n",
      "og_list =[1, 3, 5, 8] before\n",
      "og_list = [8, 3, 5, 1] after\n",
      "sorted_list = [8, 3, 5, 1]\n"
     ]
    }
   ],
   "source": [
    "og_list = [5,3,1,8]\n",
    "print(f'{og_list =} before')\n",
    "sorted_list = og_list.sort()\n",
    "print(f'{og_list = } after\\n{sorted_list = }')\n",
    "\n",
    "\n",
    "def inplace_swap(alist):\n",
    "    alist[0], alist[-1] = alist[-1], alist[0]\n",
    "    return alist\n",
    "\n",
    "print(f'{og_list =} before')\n",
    "sorted_list = inplace_swap(og_list)\n",
    "print(f'{og_list = } after\\n{sorted_list = }')"
   ]
  },
  {
   "cell_type": "markdown",
   "metadata": {},
   "source": [
    "#### Out of Place Algorithm"
   ]
  },
  {
   "cell_type": "code",
   "execution_count": 14,
   "metadata": {},
   "outputs": [
    {
     "name": "stdout",
     "output_type": "stream",
     "text": [
      "new_list = [8, 30, 1, 0, 5] before\n",
      "new_list = [8, 30, 1, 0, 5] after\n",
      "sorted_new_list = [0, 1, 5, 8, 30]\n",
      "mattrix_string = 'matrix' before\n",
      "mattrix_string = 'matrix' after\n",
      "gnirts_xirtam\n",
      "new_list = [8, 30, 1, 0, 5] before\n",
      "new_list = [5, 30, 1, 0, 8] after\n",
      "swapped_new_list = None\n"
     ]
    }
   ],
   "source": [
    "new_list = [8,30,1,0,5]\n",
    "print(f'{new_list = } before')\n",
    "sorted_new_list = sorted(new_list)\n",
    "print(f'{new_list = } after\\n{sorted_new_list = }')\n",
    "\n",
    "\n",
    "def reverse_string(astring):\n",
    "    return astring[::-1]\n",
    "\n",
    "mattrix_string = 'matrix'\n",
    "print(f'{mattrix_string = } before')\n",
    "matrix_reversed = reverse_string('matrix_string')\n",
    "print(f'{mattrix_string = } after')\n",
    "print(matrix_reversed)\n",
    "\n",
    "\n",
    "def outplace_swap(alist):\n",
    "    alist_copy = alist[::]\n",
    "    alist[0], alist[-1] = alist_copy[-1], alist_copy[0]\n",
    "\n",
    "print(f'{new_list = } before')\n",
    "swapped_new_list = outplace_swap(new_list)\n",
    "print(f'{new_list = } after\\n{swapped_new_list = }')"
   ]
  },
  {
   "cell_type": "markdown",
   "metadata": {},
   "source": [
    "#### In-Class Exercise #1 <br>\n",
    "<p>Write a function that takes in four arguments (list, index1, index2, index3), and swaps those three positions in the list passed in.</p>"
   ]
  },
  {
   "cell_type": "code",
   "execution_count": 17,
   "metadata": {},
   "outputs": [
    {
     "name": "stdout",
     "output_type": "stream",
     "text": [
      "l_1 = [10, 4, 3, 8, 4, 2, 6] before\n",
      "l_1 = [10, 4, 3, 8, 4, 2, 6] after\n",
      "sorted_l_1 = [2, 3, 4, 4, 6, 8, 10]\n",
      "mattrix_string = 'matrix' before\n",
      "mattrix_string = 'matrix' after\n",
      "gnirts_xirtam\n",
      "l_1 = [10, 4, 3, 8, 4, 2, 6] before\n",
      "l_1 = [6, 4, 3, 8, 4, 2, 10] after\n",
      "swapped_l_1 = None\n"
     ]
    }
   ],
   "source": [
    "l_1 = [10, 4, 3, 8, 4, 2, 6]\n",
    "\n",
    "print(f'{l_1 = } before')\n",
    "sorted_l_1 = sorted(l_1)\n",
    "print(f'{l_1 = } after\\n{sorted_l_1 = }')\n",
    "\n",
    "\n",
    "def reverse_string(astring):\n",
    "    return astring[::-1]\n",
    "\n",
    "mattrix_string = 'matrix'\n",
    "print(f'{mattrix_string = } before')\n",
    "matrix_reversed = reverse_string('matrix_string')\n",
    "print(f'{mattrix_string = } after')\n",
    "print(matrix_reversed)\n",
    "\n",
    "\n",
    "def outplace_swap(alist):\n",
    "    alist_copy = alist[::]\n",
    "    alist[0], alist[-1] = alist_copy[-1], alist_copy[0]\n",
    "\n",
    "print(f'{l_1 = } before')\n",
    "swapped_l_1 = outplace_swap(l_1)\n",
    "print(f'{l_1 = } after\\n{swapped_l_1 = }')\n",
    "\n",
    "\n",
    "\n"
   ]
  },
  {
   "cell_type": "code",
   "execution_count": 18,
   "metadata": {},
   "outputs": [
    {
     "name": "stdout",
     "output_type": "stream",
     "text": [
      "l_1 = [10, 4, 3, 8, 4, 2, 6] before\n",
      "l_1 = [2, 3, 4, 4, 6, 8, 10]after\n",
      "None\n",
      "l_1 = [2, 3, 4, 4, 6, 8, 10] before\n",
      "l_1 = [2, 3, 4, 4, 6, 8, 10] after\n"
     ]
    }
   ],
   "source": [
    "l_1 = [10, 4, 3, 8, 4, 2, 6]\n",
    "\n",
    "print(f\"{l_1 = } before\")\n",
    "sorted_list = l_1.sort()\n",
    "print(f\"{l_1 = }after\\n{sorted_list}\")\n",
    "\n",
    "#Out of place Al Gore\n",
    "\n",
    "print(f\"{l_1 = } before\")\n",
    "sorted_new_list = sorted(l_1)\n",
    "print(f\"{l_1 = } after\")"
   ]
  },
  {
   "cell_type": "markdown",
   "metadata": {},
   "source": [
    "## Two Pointers"
   ]
  },
  {
   "cell_type": "markdown",
   "metadata": {},
   "source": [
    "#### Syntax"
   ]
  },
  {
   "cell_type": "code",
   "execution_count": 19,
   "metadata": {},
   "outputs": [
    {
     "name": "stdout",
     "output_type": "stream",
     "text": [
      "left_point = 0 = r right_point = 6 = r\n",
      "left_point = 1 = a right_point = 5 = a\n",
      "left_point = 2 = c right_point = 4 = c\n"
     ]
    },
    {
     "data": {
      "text/plain": [
       "True"
      ]
     },
     "execution_count": 19,
     "metadata": {},
     "output_type": "execute_result"
    }
   ],
   "source": [
    "def check_palindrome(astring):\n",
    "    left_point, right_point = 0,len(astring) -1\n",
    "    while left_point < right_point:\n",
    "        print(f'{left_point = } = {astring[left_point]} {right_point = } = {astring[right_point]}')\n",
    "        if astring[left_point] != astring[right_point]:\n",
    "            return False\n",
    "        else:\n",
    "            left_point += 1\n",
    "            right_point -= 1\n",
    "\n",
    "    return True\n",
    "\n",
    "check_palindrome('racecar')"
   ]
  },
  {
   "cell_type": "code",
   "execution_count": 26,
   "metadata": {},
   "outputs": [
    {
     "name": "stdout",
     "output_type": "stream",
     "text": [
      "[4, 8, 19, 7, 19, 8, 4]\n"
     ]
    }
   ],
   "source": [
    "input_list = [1,3,6,7,19,8,4]\n",
    "\n",
    "def reverse_list(alist):\n",
    "    left_point = 0\n",
    "    right_point = len(alist) - 1\n",
    "    while left_point < right_point:\n",
    "        #old_left_value = alist[left_point]\n",
    "        alist[left_point] = alist[right_point]\n",
    "        alist[left_point], alist[right_point] = alist[right_point], alist[left_point]\n",
    "        left_point +=1\n",
    "        right_point -= 1\n",
    "\n",
    "reverse_list(input_list)\n",
    "\n",
    "print(input_list)"
   ]
  },
  {
   "cell_type": "code",
   "execution_count": 27,
   "metadata": {},
   "outputs": [
    {
     "data": {
      "text/plain": [
       "['l', 'a', 'l', 'y']"
      ]
     },
     "execution_count": 27,
     "metadata": {},
     "output_type": "execute_result"
    }
   ],
   "source": [
    "#reverse all vowels in a string\n",
    "#reverse_vowels('sean') => 'saen'\n",
    "#reverse_vowels('dylan') => 'dalyn'\n",
    "#reverse_vowels('lyla') => 'laly'\n",
    "#reverse_vowels('heathir') => 'hiather'\n",
    "\n",
    "# not so many .lower()'s\n",
    "def reverse_vowels(astring):\n",
    "    vowel_list = 'aeiouy'\n",
    "    astring = list(astring.lower())\n",
    "    left_point, right_point = 0, len(astring) - 1\n",
    "    while left_point < right_point:\n",
    "#         print(f'{left_point = } = {astring[left_point]} {right_point = } = {astring[right_point]}')\n",
    "        if astring[left_point] in vowel_list and astring[right_point] in vowel_list:\n",
    "            astring[left_point], astring[right_point] = astring[right_point], astring[left_point]\n",
    "            left_point += 1\n",
    "            right_point -= 1\n",
    "        elif astring[left_point] not in vowel_list and astring[right_point] in vowel_list:\n",
    "            left_point += 1\n",
    "        elif astring[left_point] in vowel_list and astring[right_point] not in vowel_list:\n",
    "            right_point -= 1\n",
    "        elif astring[left_point] not in vowel_list and astring[right_point] not in vowel_list:\n",
    "            left_point += 1\n",
    "            right_point -= 1\n",
    "    return astring\n",
    "            \n",
    "reverse_vowels('lYla')"
   ]
  },
  {
   "cell_type": "markdown",
   "metadata": {},
   "source": [
    "#### Video of Algorithms <br>\n",
    "<p>Watch the video about algorithms.</p>\n",
    "\n",
    "https://www.youtube.com/watch?v=Q9HjeFD62Uk\n",
    "\n",
    "https://www.youtube.com/watch?v=kPRA0W1kECg\n",
    "\n",
    "https://www.youtube.com/watch?v=ZZuD6iUe3Pc"
   ]
  },
  {
   "cell_type": "markdown",
   "metadata": {},
   "source": [
    "# Sorting Algorithms"
   ]
  },
  {
   "cell_type": "markdown",
   "metadata": {},
   "source": [
    "#### Bubble Sort\n",
    "\n",
    "Worst Case: O(n^2) Time - O(1) Space"
   ]
  },
  {
   "cell_type": "code",
   "execution_count": null,
   "metadata": {},
   "outputs": [],
   "source": []
  },
  {
   "cell_type": "markdown",
   "metadata": {},
   "source": [
    "##### Insertion Sort\n",
    "\n",
    "Worst Case: O(n^2) time - O(1)space"
   ]
  },
  {
   "cell_type": "code",
   "execution_count": null,
   "metadata": {},
   "outputs": [],
   "source": []
  },
  {
   "cell_type": "markdown",
   "metadata": {},
   "source": [
    "## Merge Sort"
   ]
  },
  {
   "cell_type": "markdown",
   "metadata": {},
   "source": [
    "#### How it Works"
   ]
  },
  {
   "cell_type": "code",
   "execution_count": null,
   "metadata": {},
   "outputs": [],
   "source": []
  },
  {
   "cell_type": "markdown",
   "metadata": {},
   "source": [
    "# Binary Search\n",
    "\n",
    "The Binary Search algorithm works by finding the number in the middle of a given array and comparing it to the target. Given that the array is sorted\n",
    "\n",
    "* The worst case run time for this algorithm is `O(log(n))`"
   ]
  },
  {
   "cell_type": "code",
   "execution_count": null,
   "metadata": {},
   "outputs": [],
   "source": []
  },
  {
   "cell_type": "markdown",
   "metadata": {},
   "source": [
    "# Exercises"
   ]
  },
  {
   "cell_type": "markdown",
   "metadata": {},
   "source": [
    "### Exercise #1 <br>\n",
    "<p>Reverse the list below in-place using an in-place algorithm.<br>For extra credit: Reverse the strings at the same time.</p>"
   ]
  },
  {
   "cell_type": "code",
   "execution_count": 1,
   "metadata": {},
   "outputs": [
    {
     "name": "stdout",
     "output_type": "stream",
     "text": [
      "['.', 'sentence', 'a', 'is', 'this']\n"
     ]
    }
   ],
   "source": [
    "words = ['this' , 'is', 'a', 'sentence', '.']\n",
    "\n",
    "for i in range(len(words) // 2):\n",
    "  words[i], words[-i - 1] = words[-i - 1], words[i]\n",
    "print(words)\n",
    "\n"
   ]
  },
  {
   "cell_type": "markdown",
   "metadata": {},
   "source": [
    "### Exercise #2 <br>\n",
    "<p>Create a function that counts how many distinct words are in the string below, then outputs a dictionary with the words as the key and the value as the amount of times that word appears in the string.<br>Should output:<br>{'a': 5,<br>\n",
    " 'abstract': 1,<br>\n",
    " 'an': 3,<br>\n",
    " 'array': 2, ... etc...</p>"
   ]
  },
  {
   "cell_type": "code",
   "execution_count": 2,
   "metadata": {},
   "outputs": [
    {
     "name": "stdout",
     "output_type": "stream",
     "text": [
      "{'In': 1, 'computing,': 1, 'a': 4, 'hash': 4, 'table': 2, 'map': 2, 'is': 1, 'data': 2, 'structure': 2, 'which': 2, 'implements': 1, 'an': 3, 'associative': 1, 'array': 2, 'abstract': 1, 'type,': 1, 'that': 1, 'can': 2, 'keys': 1, 'to': 2, 'values.': 1, 'A': 1, 'uses': 1, 'function': 1, 'compute': 1, 'index': 1, 'into': 1, 'of': 1, 'buckets': 1, 'or': 1, 'slots': 1, 'from': 1, 'the': 1, 'desired': 1, 'value': 1, 'be': 1, 'found': 1}\n"
     ]
    }
   ],
   "source": [
    "a_text = 'In computing, a hash table hash map is a data structure which implements an associative array abstract data type, a structure that can map keys to values. A hash table uses a hash function to compute an index into an array of buckets or slots from which the desired value can be found'\n",
    "\n",
    "list = a_text.split()\n",
    "dict = {}\n",
    "def hash():\n",
    "  for w in list:\n",
    "     if list.count(w) >= 1:\n",
    "       dict[w] = list.count(w)\n",
    "  else:\n",
    "    pass\n",
    "hash()\n",
    "print(dict)\n"
   ]
  },
  {
   "cell_type": "markdown",
   "metadata": {},
   "source": [
    "## Exercise #3\n",
    "\n",
    "Write a program to implement a Linear Search Algorithm. Also in a comment, write the Time Complexity of the following algorithm.\n",
    "\n",
    "#### Hint: Linear Searching will require searching a list for a given number. "
   ]
  },
  {
   "cell_type": "code",
   "execution_count": 3,
   "metadata": {},
   "outputs": [
    {
     "data": {
      "text/plain": [
       "-1"
      ]
     },
     "execution_count": 3,
     "metadata": {},
     "output_type": "execute_result"
    }
   ],
   "source": [
    "nums_list = [10,23,45,11,15]\n",
    "target = 70\n",
    "#O(n)\n",
    "def num():\n",
    "  if target in nums_list: # O(n)\n",
    "    return True # O(1)\n",
    "  else:\n",
    "    return -1 # O(1)\n",
    "num()\n",
    "\n",
    "# If number is not present return -1"
   ]
  }
 ],
 "metadata": {
  "kernelspec": {
   "display_name": "Python 3",
   "language": "python",
   "name": "python3"
  },
  "language_info": {
   "codemirror_mode": {
    "name": "ipython",
    "version": 3
   },
   "file_extension": ".py",
   "mimetype": "text/x-python",
   "name": "python",
   "nbconvert_exporter": "python",
   "pygments_lexer": "ipython3",
   "version": "3.9.7"
  }
 },
 "nbformat": 4,
 "nbformat_minor": 2
}
